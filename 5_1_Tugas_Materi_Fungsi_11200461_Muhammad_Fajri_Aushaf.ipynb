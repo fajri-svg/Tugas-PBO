{
  "nbformat": 4,
  "nbformat_minor": 0,
  "metadata": {
    "colab": {
      "name": "5_1_Tugas_Materi_Fungsi_11200461_Muhammad Fajri Aushaf",
      "provenance": [],
      "collapsed_sections": []
    },
    "kernelspec": {
      "name": "python3",
      "display_name": "Python 3"
    }
  },
  "cells": [
    {
      "cell_type": "code",
      "metadata": {
        "id": "22s8pI85u5_J"
      },
      "source": [
        ""
      ],
      "execution_count": null,
      "outputs": []
    },
    {
      "cell_type": "markdown",
      "metadata": {
        "id": "fPMZcyuxvINI"
      },
      "source": [
        "**Soal 5.1.1**\n",
        "\n",
        "Berikut ini adalah potongan kode implementasi fungsi *luas_limas_segi_empat()*\n",
        "``` javascript\n",
        "print(\"Luas : %d\" % luas_limas_segi_empat(Alas_limas, Tinggi_limas))​\n",
        "```\n",
        "Lengkapilah kode tersebut dengan merancang sebuah fungsi agar bisa diimplementasikan sesuai dengan statment potongan kode diatas.\n",
        "dengan mengetikan pada code cell di bawah ini pada editor."
      ]
    },
    {
      "cell_type": "code",
      "metadata": {
        "id": "WMeeaGjuxQfL",
        "colab": {
          "base_uri": "https://localhost:8080/"
        },
        "outputId": "18d6a8e3-6f42-44b9-f7ac-6ff219346417"
      },
      "source": [
        "# Soal 4.1.1\n",
        "#Bangun Ruang Limas\n",
        "#Luas = luas alas + jumlah luas sisi tegak\n",
        "\n",
        "def luas():\n",
        "    luas_alas = float(input(\"Masukkan Luas Alas: \"))\n",
        "    jumlah_sisi_tegak = float(input(\"Masukkan Jumlah Sisi Tegak: \"))\n",
        "\n",
        "    luas = luas_alas + jumlah_sisi_tegak\n",
        "\n",
        "    print(\"Luas Limas adalah %d\" %luas)\n",
        "\n",
        "#pemanggilan fungsi\n",
        "luas()"
      ],
      "execution_count": 1,
      "outputs": [
        {
          "output_type": "stream",
          "name": "stdout",
          "text": [
            "Masukkan Luas Alas: 26\n",
            "Masukkan Jumlah Sisi Tegak: 5\n",
            "Luas Limas adalah 31\n"
          ]
        }
      ]
    }
  ]
}