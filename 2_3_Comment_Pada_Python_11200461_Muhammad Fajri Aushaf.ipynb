{
 "cells": [
  {
   "cell_type": "code",
   "execution_count": 3,
   "id": "3e0b9e30",
   "metadata": {},
   "outputs": [
    {
     "name": "stdout",
     "output_type": "stream",
     "text": [
      "25\n"
     ]
    }
   ],
   "source": [
    "#ini adalah fungsi matematika \n",
    "#pada fungsi matematika ini akan menghasilkan output dari perhitungan matematika yang diinputkan\n",
    "print(10*2+5)\n",
    "\n"
   ]
  },
  {
   "cell_type": "code",
   "execution_count": 4,
   "id": "17f08202",
   "metadata": {},
   "outputs": [
    {
     "name": "stdout",
     "output_type": "stream",
     "text": [
      "20\n"
     ]
    }
   ],
   "source": [
    "#ini adalah fungsi mencetak kalimat\n",
    "#pada fungsi kalimat akan menghasilkan output kalimat atau kata\n",
    "print(\"20\")"
   ]
  },
  {
   "cell_type": "code",
   "execution_count": 5,
   "id": "2ef75d30",
   "metadata": {},
   "outputs": [
    {
     "name": "stdout",
     "output_type": "stream",
     "text": [
      "Muhammad Fajri Aushaf\n"
     ]
    }
   ],
   "source": [
    "#Assalamu'alaikum, nama saya Muhammad Fajri Aushaf\n",
    "print(\"Muhammad Fajri Aushaf\")"
   ]
  },
  {
   "cell_type": "code",
   "execution_count": 6,
   "id": "36cf62e2",
   "metadata": {},
   "outputs": [
    {
     "name": "stdout",
     "output_type": "stream",
     "text": [
      "11200461\n"
     ]
    }
   ],
   "source": [
    "#ini adalah NIM saya, saya angkatan 2021\n",
    "print(\"11200461\")"
   ]
  },
  {
   "cell_type": "code",
   "execution_count": null,
   "id": "d1573c47",
   "metadata": {},
   "outputs": [],
   "source": []
  }
 ],
 "metadata": {
  "kernelspec": {
   "display_name": "Python 3 (ipykernel)",
   "language": "python",
   "name": "python3"
  },
  "language_info": {
   "codemirror_mode": {
    "name": "ipython",
    "version": 3
   },
   "file_extension": ".py",
   "mimetype": "text/x-python",
   "name": "python",
   "nbconvert_exporter": "python",
   "pygments_lexer": "ipython3",
   "version": "3.10.0"
  }
 },
 "nbformat": 4,
 "nbformat_minor": 5
}
